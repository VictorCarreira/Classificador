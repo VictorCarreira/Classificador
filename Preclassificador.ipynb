{
 "cells": [
  {
   "cell_type": "markdown",
   "metadata": {},
   "source": [
    "# Preclassificador com o uso do Pandas: "
   ]
  },
  {
   "cell_type": "markdown",
   "metadata": {},
   "source": [
    "------------------------------------------------------------------------------------------------------------------------------------------------------------------------------------------------------------------------------------------------------------------------------------------------------------------------------------------------------------"
   ]
  },
  {
   "cell_type": "code",
   "execution_count": 66,
   "metadata": {
    "collapsed": false
   },
   "outputs": [],
   "source": [
    "################PACOTES################\n",
    "% matplotlib inline\n",
    "import numpy as np\n",
    "from numpy.linalg import inv\n",
    "import math \n",
    "from math import sqrt\n",
    "import pylab as py\n",
    "import matplotlib\n",
    "import matplotlib.pyplot as plt\n",
    "import scipy as sp\n",
    "from scipy import misc\n",
    "import pandas as pd\n",
    "from pandas import Series, DataFrame\n",
    "import re \n",
    "from IPython.display import Latex\n",
    "#####################################"
   ]
  },
  {
   "cell_type": "code",
   "execution_count": 67,
   "metadata": {
    "collapsed": false
   },
   "outputs": [
    {
     "name": "stdout",
     "output_type": "stream",
     "text": [
      "       Litologia  codigo  prof  dens     gama        rho   vel\n",
      "0       folhelho       1     1  2.57   96.900     9290.0  2.78\n",
      "1       folhelho       1     2  2.52  105.000    10200.0  2.84\n",
      "2       folhelho       1     3  2.55   95.100     9930.0  2.96\n",
      "3       folhelho       1     4  2.53   97.100     9930.0  3.15\n",
      "4       folhelho       1     5  2.58   94.900    10300.0  2.96\n",
      "5       folhelho       1     6  2.51   99.400     9940.0  2.83\n",
      "6       folhelho       1     7  2.51  106.000    10400.0  3.01\n",
      "7       folhelho       1     8  2.58  107.000    10100.0  3.14\n",
      "8       folhelho       1     9  2.57   95.500    10400.0  2.59\n",
      "9       folhelho       1    10  2.52   98.300    10700.0  3.06\n",
      "10      folhelho       1    11  2.63   98.500    10700.0  3.39\n",
      "11      folhelho       1    12  2.57   92.800     9620.0  2.91\n",
      "12      folhelho       1    13  2.56   96.300     9640.0  2.78\n",
      "13      folhelho       1    14  2.52   97.200    10600.0  3.27\n",
      "14      folhelho       1    15  2.58   97.500    10700.0  3.22\n",
      "15      folhelho       1    16  2.54   99.200    10000.0  3.09\n",
      "16      folhelho       1    17  2.49  101.000    10100.0  2.65\n",
      "17      folhelho       1    18  2.55   98.500     9300.0  2.85\n",
      "18      folhelho       1    19  2.49  101.000     9900.0  3.30\n",
      "19      folhelho       1    20  2.55   97.400     9950.0  2.95\n",
      "20      folhelho       1    21  2.59   93.300     9920.0  2.79\n",
      "21      folhelho       1    22  2.54   95.800     9650.0  2.78\n",
      "22      folhelho       1    23  2.54  105.000     8940.0  2.90\n",
      "23      folhelho       1    24  2.55  100.000     9800.0  3.03\n",
      "24      folhelho       1    25  2.56  104.000     9750.0  3.34\n",
      "25      folhelho       1    26  2.55   96.500    10100.0  2.96\n",
      "26      folhelho       1    27  2.54  102.000     9930.0  2.95\n",
      "27      folhelho       1    28  2.51   98.000    10800.0  3.07\n",
      "28      folhelho       1    29  2.57   99.100     9210.0  2.82\n",
      "29      folhelho       1    30  2.55  106.000    10700.0  3.17\n",
      "..           ...     ...   ...   ...      ...        ...   ...\n",
      "669  embasamento       5   670  2.76    0.705  1330000.0  4.63\n",
      "670  embasamento       5   671  2.79    0.696  1210000.0  5.12\n",
      "671  embasamento       5   672  2.84    0.708  1260000.0  5.03\n",
      "672  embasamento       5   673  2.82    0.677  1390000.0  5.14\n",
      "673  embasamento       5   674  2.82    0.731  1270000.0  5.16\n",
      "674  embasamento       5   675  2.79    0.689  1290000.0  5.00\n",
      "675  embasamento       5   676  2.77    0.757  1210000.0  4.39\n",
      "676  embasamento       5   677  2.85    0.717  1240000.0  4.70\n",
      "677  embasamento       5   678  2.79    0.710  1380000.0  5.30\n",
      "678  embasamento       5   679  2.80    0.623  1430000.0  4.81\n",
      "679  embasamento       5   680  2.78    0.685  1170000.0  4.63\n",
      "680  embasamento       5   681  2.79    0.760  1240000.0  4.63\n",
      "681  embasamento       5   682  2.81    0.725  1280000.0  4.78\n",
      "682  embasamento       5   683  2.84    0.659  1360000.0  4.67\n",
      "683  embasamento       5   684  2.77    0.672  1260000.0  4.78\n",
      "684  embasamento       5   685  2.80    0.657  1370000.0  4.85\n",
      "685  embasamento       5   686  2.81    0.677  1290000.0  5.42\n",
      "686  embasamento       5   687  2.81    0.693  1290000.0  4.87\n",
      "687  embasamento       5   688  2.77    0.636  1380000.0  5.08\n",
      "688  embasamento       5   689  2.80    0.676  1320000.0  4.85\n",
      "689  embasamento       5   690  2.87    0.702  1360000.0  5.56\n",
      "690  embasamento       5   691  2.86    0.698  1240000.0  4.61\n",
      "691  embasamento       5   692  2.77    0.691  1390000.0  5.30\n",
      "692  embasamento       5   693  2.85    0.676  1260000.0  4.76\n",
      "693  embasamento       5   694  2.81    0.697  1320000.0  5.82\n",
      "694  embasamento       5   695  2.80    0.679  1210000.0  4.40\n",
      "695  embasamento       5   696  2.79    0.713  1330000.0  5.60\n",
      "696  embasamento       5   697  2.81    0.695  1320000.0  5.02\n",
      "697  embasamento       5   698  2.75    0.759  1290000.0  5.11\n",
      "698  embasamento       5   699  2.75    0.716  1270000.0  5.12\n",
      "\n",
      "[699 rows x 7 columns]\n"
     ]
    }
   ],
   "source": [
    "dado = pd.read_table('dados_sint_c1.txt', sep='\\s+')\n",
    "\n",
    "print(dado)"
   ]
  },
  {
   "cell_type": "code",
   "execution_count": 74,
   "metadata": {
    "collapsed": false
   },
   "outputs": [
    {
     "name": "stdout",
     "output_type": "stream",
     "text": [
      "      Litologia\n",
      "0      folhelho\n",
      "1      dolomita\n",
      "2      diabasio\n",
      "3  conglomerado\n",
      "4   embasamento\n"
     ]
    }
   ],
   "source": [
    "#divis = re.split('\\t',dado) \n",
    "\n",
    "df = pd.DataFrame({'Litologia': ['folhelho', 'dolomita', 'diabasio','conglomerado', 'embasamento']})\n",
    "\n",
    "\n",
    "print(df)"
   ]
  },
  {
   "cell_type": "code",
   "execution_count": 75,
   "metadata": {
    "collapsed": false
   },
   "outputs": [
    {
     "ename": "TypeError",
     "evalue": "expected string or buffer",
     "output_type": "error",
     "traceback": [
      "\u001b[0;31m---------------------------------------------------------------------------\u001b[0m",
      "\u001b[0;31mTypeError\u001b[0m                                 Traceback (most recent call last)",
      "\u001b[0;32m<ipython-input-75-d6af0e7647b8>\u001b[0m in \u001b[0;36m<module>\u001b[0;34m()\u001b[0m\n\u001b[0;32m----> 1\u001b[0;31m \u001b[0mre\u001b[0m\u001b[0;34m.\u001b[0m\u001b[0msplit\u001b[0m\u001b[0;34m(\u001b[0m\u001b[0;34m'\\s+'\u001b[0m\u001b[0;34m,\u001b[0m \u001b[0mdado\u001b[0m\u001b[0;34m)\u001b[0m\u001b[0;34m\u001b[0m\u001b[0m\n\u001b[0m",
      "\u001b[0;32m/home/carreira/anaconda2/lib/python2.7/re.pyc\u001b[0m in \u001b[0;36msplit\u001b[0;34m(pattern, string, maxsplit, flags)\u001b[0m\n\u001b[1;32m    169\u001b[0m     \"\"\"Split the source string by the occurrences of the pattern,\n\u001b[1;32m    170\u001b[0m     returning a list containing the resulting substrings.\"\"\"\n\u001b[0;32m--> 171\u001b[0;31m     \u001b[0;32mreturn\u001b[0m \u001b[0m_compile\u001b[0m\u001b[0;34m(\u001b[0m\u001b[0mpattern\u001b[0m\u001b[0;34m,\u001b[0m \u001b[0mflags\u001b[0m\u001b[0;34m)\u001b[0m\u001b[0;34m.\u001b[0m\u001b[0msplit\u001b[0m\u001b[0;34m(\u001b[0m\u001b[0mstring\u001b[0m\u001b[0;34m,\u001b[0m \u001b[0mmaxsplit\u001b[0m\u001b[0;34m)\u001b[0m\u001b[0;34m\u001b[0m\u001b[0m\n\u001b[0m\u001b[1;32m    172\u001b[0m \u001b[0;34m\u001b[0m\u001b[0m\n\u001b[1;32m    173\u001b[0m \u001b[0;32mdef\u001b[0m \u001b[0mfindall\u001b[0m\u001b[0;34m(\u001b[0m\u001b[0mpattern\u001b[0m\u001b[0;34m,\u001b[0m \u001b[0mstring\u001b[0m\u001b[0;34m,\u001b[0m \u001b[0mflags\u001b[0m\u001b[0;34m=\u001b[0m\u001b[0;36m0\u001b[0m\u001b[0;34m)\u001b[0m\u001b[0;34m:\u001b[0m\u001b[0;34m\u001b[0m\u001b[0m\n",
      "\u001b[0;31mTypeError\u001b[0m: expected string or buffer"
     ]
    }
   ],
   "source": [
    "re.split('\\s+', dado)"
   ]
  },
  {
   "cell_type": "code",
   "execution_count": null,
   "metadata": {
    "collapsed": true
   },
   "outputs": [],
   "source": []
  }
 ],
 "metadata": {
  "kernelspec": {
   "display_name": "Python 2",
   "language": "python",
   "name": "python2"
  },
  "language_info": {
   "codemirror_mode": {
    "name": "ipython",
    "version": 2
   },
   "file_extension": ".py",
   "mimetype": "text/x-python",
   "name": "python",
   "nbconvert_exporter": "python",
   "pygments_lexer": "ipython2",
   "version": "2.7.13"
  }
 },
 "nbformat": 4,
 "nbformat_minor": 2
}
