{
 "cells": [
  {
   "cell_type": "markdown",
   "metadata": {},
   "source": [
    "<img src='Imagens/logon.jpg' width=\"400px\" align=\"left\">"
   ]
  },
  {
   "cell_type": "markdown",
   "metadata": {},
   "source": [
    "## Preclassificador com o uso do Pandas: "
   ]
  },
  {
   "cell_type": "markdown",
   "metadata": {},
   "source": [
    "------------------------------------------------------------------------------------------------------------------------------------------------------------------------------------------------------------------------------------------------------------------------------------------------------------------------------------------------------------"
   ]
  },
  {
   "cell_type": "code",
   "execution_count": 40,
   "metadata": {},
   "outputs": [],
   "source": [
    "################PACOTES################\n",
    "import re \n",
    "import numpy as np\n",
    "import pylab as py\n",
    "import scipy as sp\n",
    "import pandas as pd\n",
    "import matplotlib.pyplot as plt\n",
    "from IPython.display import Latex\n",
    "from pandas import Series, DataFrame\n",
    "from pandas.plotting import scatter_matrix\n",
    "\n",
    "% matplotlib inline\n",
    "#####################################"
   ]
  },
  {
   "cell_type": "code",
   "execution_count": 41,
   "metadata": {},
   "outputs": [
    {
     "name": "stdout",
     "output_type": "stream",
     "text": [
      "       Litologia  codigo  prof  dens     gama        rho   vel\n",
      "0       folhelho       1     1  2.57   96.900     9290.0  2.78\n",
      "1       folhelho       1     2  2.52  105.000    10200.0  2.84\n",
      "2       folhelho       1     3  2.55   95.100     9930.0  2.96\n",
      "3       folhelho       1     4  2.53   97.100     9930.0  3.15\n",
      "4       folhelho       1     5  2.58   94.900    10300.0  2.96\n",
      "5       folhelho       1     6  2.51   99.400     9940.0  2.83\n",
      "6       folhelho       1     7  2.51  106.000    10400.0  3.01\n",
      "7       folhelho       1     8  2.58  107.000    10100.0  3.14\n",
      "8       folhelho       1     9  2.57   95.500    10400.0  2.59\n",
      "9       folhelho       1    10  2.52   98.300    10700.0  3.06\n",
      "10      folhelho       1    11  2.63   98.500    10700.0  3.39\n",
      "11      folhelho       1    12  2.57   92.800     9620.0  2.91\n",
      "12      folhelho       1    13  2.56   96.300     9640.0  2.78\n",
      "13      folhelho       1    14  2.52   97.200    10600.0  3.27\n",
      "14      folhelho       1    15  2.58   97.500    10700.0  3.22\n",
      "15      folhelho       1    16  2.54   99.200    10000.0  3.09\n",
      "16      folhelho       1    17  2.49  101.000    10100.0  2.65\n",
      "17      folhelho       1    18  2.55   98.500     9300.0  2.85\n",
      "18      folhelho       1    19  2.49  101.000     9900.0  3.30\n",
      "19      folhelho       1    20  2.55   97.400     9950.0  2.95\n",
      "20      folhelho       1    21  2.59   93.300     9920.0  2.79\n",
      "21      folhelho       1    22  2.54   95.800     9650.0  2.78\n",
      "22      folhelho       1    23  2.54  105.000     8940.0  2.90\n",
      "23      folhelho       1    24  2.55  100.000     9800.0  3.03\n",
      "24      folhelho       1    25  2.56  104.000     9750.0  3.34\n",
      "25      folhelho       1    26  2.55   96.500    10100.0  2.96\n",
      "26      folhelho       1    27  2.54  102.000     9930.0  2.95\n",
      "27      folhelho       1    28  2.51   98.000    10800.0  3.07\n",
      "28      folhelho       1    29  2.57   99.100     9210.0  2.82\n",
      "29      folhelho       1    30  2.55  106.000    10700.0  3.17\n",
      "..           ...     ...   ...   ...      ...        ...   ...\n",
      "669  embasamento       5   670  2.76    0.705  1330000.0  4.63\n",
      "670  embasamento       5   671  2.79    0.696  1210000.0  5.12\n",
      "671  embasamento       5   672  2.84    0.708  1260000.0  5.03\n",
      "672  embasamento       5   673  2.82    0.677  1390000.0  5.14\n",
      "673  embasamento       5   674  2.82    0.731  1270000.0  5.16\n",
      "674  embasamento       5   675  2.79    0.689  1290000.0  5.00\n",
      "675  embasamento       5   676  2.77    0.757  1210000.0  4.39\n",
      "676  embasamento       5   677  2.85    0.717  1240000.0  4.70\n",
      "677  embasamento       5   678  2.79    0.710  1380000.0  5.30\n",
      "678  embasamento       5   679  2.80    0.623  1430000.0  4.81\n",
      "679  embasamento       5   680  2.78    0.685  1170000.0  4.63\n",
      "680  embasamento       5   681  2.79    0.760  1240000.0  4.63\n",
      "681  embasamento       5   682  2.81    0.725  1280000.0  4.78\n",
      "682  embasamento       5   683  2.84    0.659  1360000.0  4.67\n",
      "683  embasamento       5   684  2.77    0.672  1260000.0  4.78\n",
      "684  embasamento       5   685  2.80    0.657  1370000.0  4.85\n",
      "685  embasamento       5   686  2.81    0.677  1290000.0  5.42\n",
      "686  embasamento       5   687  2.81    0.693  1290000.0  4.87\n",
      "687  embasamento       5   688  2.77    0.636  1380000.0  5.08\n",
      "688  embasamento       5   689  2.80    0.676  1320000.0  4.85\n",
      "689  embasamento       5   690  2.87    0.702  1360000.0  5.56\n",
      "690  embasamento       5   691  2.86    0.698  1240000.0  4.61\n",
      "691  embasamento       5   692  2.77    0.691  1390000.0  5.30\n",
      "692  embasamento       5   693  2.85    0.676  1260000.0  4.76\n",
      "693  embasamento       5   694  2.81    0.697  1320000.0  5.82\n",
      "694  embasamento       5   695  2.80    0.679  1210000.0  4.40\n",
      "695  embasamento       5   696  2.79    0.713  1330000.0  5.60\n",
      "696  embasamento       5   697  2.81    0.695  1320000.0  5.02\n",
      "697  embasamento       5   698  2.75    0.759  1290000.0  5.11\n",
      "698  embasamento       5   699  2.75    0.716  1270000.0  5.12\n",
      "\n",
      "[699 rows x 7 columns]\n"
     ]
    }
   ],
   "source": [
    "dadoc1 = pd.read_table('dados_sint_c1.txt', sep='\\s+')\n",
    "\n",
    "print(dadoc1)"
   ]
  },
  {
   "cell_type": "code",
   "execution_count": 42,
   "metadata": {},
   "outputs": [
    {
     "data": {
      "image/png": "[encoded data removed]",
      "text/plain": [
       "<matplotlib.figure.Figure at 0x7efea371c588>"
      ]
     },
     "metadata": {},
     "output_type": "display_data"
    }
   ],
   "source": [
    "df = pd.DataFrame(dadoc1, columns=['fid','rocha','codigo','prof', 'dens', 'gama', 'rho', 'vel'])\n",
    "\n",
    "#print(df)\n",
    "\n",
    "#print(frame)\n",
    "\n",
    "df.plot.scatter(x='dens', y='gama');"
   ]
  },
  {
   "cell_type": "code",
   "execution_count": 43,
   "metadata": {},
   "outputs": [
    {
     "name": "stdout",
     "output_type": "stream",
     "text": [
      "       Litologia  codigo  prof  dens     gama        rho   vel\n",
      "0       folhelho       1     1  2.59   94.800    10600.0  3.07\n",
      "1       folhelho       1     2  2.55   96.000     9560.0  3.33\n",
      "2       folhelho       1     3  2.54  100.000    10200.0  2.78\n",
      "3       folhelho       1     4  2.52   94.800    10500.0  2.84\n",
      "4       folhelho       1     5  2.54   94.800    10100.0  3.29\n",
      "5       folhelho       1     6  2.55  107.000    10900.0  3.02\n",
      "6       folhelho       1     7  2.51  106.000    10200.0  3.02\n",
      "7       folhelho       1     8  2.58   93.600    10100.0  3.20\n",
      "8       folhelho       1     9  2.55   90.200    10500.0  2.95\n",
      "9       folhelho       1    10  2.59   96.000     9860.0  2.83\n",
      "10      folhelho       1    11  2.55  100.000    10100.0  2.94\n",
      "11      folhelho       1    12  2.52   89.200    10500.0  2.73\n",
      "12      folhelho       1    13  2.48  106.000    10100.0  3.22\n",
      "13      folhelho       1    14  2.56  105.000    10600.0  3.20\n",
      "14      folhelho       1    15  2.57  102.000     9720.0  3.01\n",
      "15      folhelho       1    16  2.59  102.000    10200.0  2.99\n",
      "16      folhelho       1    17  2.58  112.000     9660.0  2.95\n",
      "17      folhelho       1    18  2.60   97.200    10700.0  3.01\n",
      "18      folhelho       1    19  2.57  102.000    10200.0  3.06\n",
      "19      folhelho       1    20  2.59  102.000     9090.0  3.06\n",
      "20      folhelho       1    21  2.51   93.400     9860.0  3.02\n",
      "21      folhelho       1    22  2.56  100.000    10400.0  2.93\n",
      "22      folhelho       1    23  2.48  105.000     9750.0  3.00\n",
      "23      folhelho       1    24  2.55  101.000    11500.0  2.88\n",
      "24      folhelho       1    25  2.57   97.200     9860.0  2.83\n",
      "25      folhelho       1    26  2.57  102.000     9600.0  3.06\n",
      "26      folhelho       1    27  2.58   98.000     9010.0  2.98\n",
      "27      folhelho       1    28  2.58   94.400     9310.0  2.64\n",
      "28      folhelho       1    29  2.52   92.500     9810.0  2.84\n",
      "29      folhelho       1    30  2.51   98.300    10100.0  2.84\n",
      "..           ...     ...   ...   ...      ...        ...   ...\n",
      "668  embasamento       5   669  2.81    0.697  1320000.0  4.93\n",
      "669  embasamento       5   670  2.79    0.733  1340000.0  4.78\n",
      "670  embasamento       5   671  2.79    0.741  1330000.0  5.60\n",
      "671  embasamento       5   672  2.82    0.727  1250000.0  5.25\n",
      "672  embasamento       5   673  2.77    0.677  1280000.0  5.34\n",
      "673  embasamento       5   674  2.77    0.739  1310000.0  5.15\n",
      "674  embasamento       5   675  2.84    0.649  1330000.0  4.62\n",
      "675  embasamento       5   676  2.79    0.650  1320000.0  5.02\n",
      "676  embasamento       5   677  2.80    0.779  1420000.0  5.00\n",
      "677  embasamento       5   678  2.82    0.731  1230000.0  5.32\n",
      "678  embasamento       5   679  2.76    0.742  1270000.0  5.01\n",
      "679  embasamento       5   680  2.79    0.727  1270000.0  4.85\n",
      "680  embasamento       5   681  2.84    0.731  1200000.0  4.84\n",
      "681  embasamento       5   682  2.77    0.689  1210000.0  5.10\n",
      "682  embasamento       5   683  2.80    0.748  1320000.0  4.85\n",
      "683  embasamento       5   684  2.84    0.726  1380000.0  5.26\n",
      "684  embasamento       5   685  2.80    0.727  1170000.0  5.19\n",
      "685  embasamento       5   686  2.77    0.653  1200000.0  5.56\n",
      "686  embasamento       5   687  2.79    0.704  1290000.0  4.95\n",
      "687  embasamento       5   688  2.80    0.698  1250000.0  5.08\n",
      "688  embasamento       5   689  2.84    0.732  1250000.0  5.60\n",
      "689  embasamento       5   690  2.80    0.653  1370000.0  5.11\n",
      "690  embasamento       5   691  2.81    0.651  1370000.0  4.95\n",
      "691  embasamento       5   692  2.85    0.714  1440000.0  5.35\n",
      "692  embasamento       5   693  2.74    0.750  1240000.0  5.02\n",
      "693  embasamento       5   694  2.84    0.630  1330000.0  4.92\n",
      "694  embasamento       5   695  2.77    0.693  1300000.0  4.67\n",
      "695  embasamento       5   696  2.77    0.771  1440000.0  5.05\n",
      "696  embasamento       5   697  2.81    0.684  1160000.0  5.16\n",
      "697  embasamento       5   698  2.82    0.669  1260000.0  4.71\n",
      "\n",
      "[698 rows x 7 columns]\n"
     ]
    }
   ],
   "source": [
    "dadoc2 = pd.read_table('dados_sint_c2.txt', sep='\\s+')\n",
    "\n",
    "print(dadoc2)"
   ]
  },
  {
   "cell_type": "code",
   "execution_count": 48,
   "metadata": {},
   "outputs": [
    {
     "data": {
      "image/png": "[encoded data removed]",
      "text/plain": [
       "<matplotlib.figure.Figure at 0x7efea19e49b0>"
      ]
     },
     "metadata": {},
     "output_type": "display_data"
    }
   ],
   "source": [
    "df2 = pd.DataFrame(dadoc2, columns=['fid','rocha','codigo','prof', 'dens', 'gama', 'rho', 'vel'])\n",
    "\n",
    "df2.plot.scatter(x='dens', y='gama');\n",
    "\n",
    "#scatter_matrix(df2, alpha=0.2, figsize=(6, 6), diagonal='kde');"
   ]
  },
  {
   "cell_type": "code",
   "execution_count": 70,
   "metadata": {},
   "outputs": [
    {
     "data": {
      "image/png": "[encoded data removed]",
      "text/plain": [
       "<matplotlib.figure.Figure at 0x7efea15b3710>"
      ]
     },
     "metadata": {},
     "output_type": "display_data"
    }
   ],
   "source": [
    "c1 = pd.read_table('Semelhança.txt', sep='\\s+')\n",
    "#print(c1)\n",
    "dc1 = pd.DataFrame(c1, columns=['dist','cod'])\n",
    "dc1.plot.scatter(x='cod', y='dist');\n",
    "#dc1.plot.hexbin(x='a', y='b', C='z', reduce_C_function=np.max,gridsize=25)"
   ]
  },
  {
   "cell_type": "code",
   "execution_count": 89,
   "metadata": {},
   "outputs": [
    {
     "data": {
      "image/png": "[encoded data removed]",
      "text/plain": [
       "<matplotlib.figure.Figure at 0x7efea1708e80>"
      ]
     },
     "metadata": {},
     "output_type": "display_data"
    }
   ],
   "source": [
    "c2 = pd.read_table('SemelhançaC2.txt', sep='\\s+')\n",
    "#print(c1)\n",
    "dc2 = pd.DataFrame(c2, columns=['dist','cod'])\n",
    "dc2.plot.scatter(x='cod', y='dist');\n",
    "#dc1.plot.hexbin(x='a', y='b', C='z', reduce_C_function=np.max,gridsize=25)"
   ]
  },
  {
   "cell_type": "code",
   "execution_count": 85,
   "metadata": {},
   "outputs": [
    {
     "name": "stdout",
     "output_type": "stream",
     "text": [
      "[[ 17.0647   1.    ]\n",
      " [ 18.5857   1.    ]\n",
      " [ 16.4424   1.    ]\n",
      " ..., \n",
      " [  2.0621   5.    ]\n",
      " [  2.7514   5.    ]\n",
      " [  2.8429   5.    ]]\n"
     ]
    },
    {
     "data": {
      "image/png": "[encoded data removed]",
      "text/plain": [
       "<matplotlib.figure.Figure at 0x7efea166c518>"
      ]
     },
     "metadata": {},
     "output_type": "display_data"
    }
   ],
   "source": [
    "C1 = np.loadtxt(fname='Semelhança.txt')\n",
    "print(C1)\n",
    "x= C1[:,0]\n",
    "y= C1[:,1]\n",
    "plt.scatter(y, x, s=80, marker=\".\");"
   ]
  },
  {
   "cell_type": "code",
   "execution_count": 87,
   "metadata": {},
   "outputs": [
    {
     "name": "stdout",
     "output_type": "stream",
     "text": [
      "[[ 17.34     1.    ]\n",
      " [ 17.3603   1.    ]\n",
      " [ 17.3568   1.    ]\n",
      " ..., \n",
      " [  3.3881   5.    ]\n",
      " [  3.0935   5.    ]\n",
      " [  2.8181   5.    ]]\n"
     ]
    },
    {
     "data": {
      "image/png": "[encoded data removed]",
      "text/plain": [
       "<matplotlib.figure.Figure at 0x7efea1504d30>"
      ]
     },
     "metadata": {},
     "output_type": "display_data"
    }
   ],
   "source": [
    "C2 = np.loadtxt(fname='SemelhançaC2.txt')\n",
    "print(C2)\n",
    "x= C2[:,0]\n",
    "y= C2[:,1]\n",
    "plt.scatter(y, x, s=80, marker=\".\");"
   ]
  },
  {
   "cell_type": "code",
   "execution_count": null,
   "metadata": {
    "collapsed": true
   },
   "outputs": [],
   "source": []
  }
 ],
 "metadata": {
  "kernelspec": {
   "display_name": "Python 3",
   "language": "python",
   "name": "python3"
  },
  "language_info": {
   "codemirror_mode": {
    "name": "ipython",
    "version": 3
   },
   "file_extension": ".py",
   "mimetype": "text/x-python",
   "name": "python",
   "nbconvert_exporter": "python",
   "pygments_lexer": "ipython3",
   "version": "3.6.3"
  }
 },
 "nbformat": 4,
 "nbformat_minor": 2
}
